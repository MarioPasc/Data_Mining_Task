{
  "nbformat": 4,
  "nbformat_minor": 0,
  "metadata": {
    "colab": {
      "provenance": []
    },
    "kernelspec": {
      "name": "python3",
      "display_name": "Python 3"
    },
    "language_info": {
      "name": "python"
    }
  },
  "cells": [
    {
      "cell_type": "code",
      "execution_count": null,
      "metadata": {
        "colab": {
          "base_uri": "https://localhost:8080/"
        },
        "id": "vfKHqBScZ1Tp",
        "outputId": "d3f4f509-d85f-4d45-b9cf-27182b918803"
      },
      "outputs": [
        {
          "output_type": "stream",
          "name": "stdout",
          "text": [
            "Drive already mounted at /content/drive; to attempt to forcibly remount, call drive.mount(\"/content/drive\", force_remount=True).\n"
          ]
        }
      ],
      "source": [
        "from math import log2\n",
        "import pandas as pd\n",
        "import numpy as np\n",
        "import matplotlib.pyplot as plt\n",
        "from google.colab import drive\n",
        "import seaborn as sns\n",
        "import os\n",
        "\n",
        "drive.mount('/content/drive')\n",
        "PATH = '/content/drive/MyDrive/Datasets/bc_categ.csv'\n",
        "\n",
        "bc_df = pd.read_csv(PATH)"
      ]
    },
    {
      "cell_type": "code",
      "source": [
        "bc_df = pd.read_csv(PATH)"
      ],
      "metadata": {
        "id": "GfkIuOr5zydy"
      },
      "execution_count": null,
      "outputs": []
    },
    {
      "cell_type": "code",
      "source": [
        "#18, 32, 6751, 6783: Other ... 16, 40, 6800, 6805: Black ... 0, 1, 6814, 6815: White\n",
        "bc_df = bc_df.iloc[[6000, 1, 2, 18, 32, 40, 6751, 6783, 6800, 685, 6814, 6815], :]\n",
        "print(bc_df.to_latex(index=False,\n",
        "                  float_format=\"{:.1f}\".format,\n",
        "))"
      ],
      "metadata": {
        "colab": {
          "base_uri": "https://localhost:8080/"
        },
        "id": "4bSSLYtgaQoF",
        "outputId": "7f8c1abb-88c2-430b-b53f-ee022ef8a998"
      },
      "execution_count": null,
      "outputs": [
        {
          "output_type": "stream",
          "name": "stdout",
          "text": [
            "\\begin{tabular}{lllllllr}\n",
            "\\toprule\n",
            " Race & T Stage  & N Stage & 6th Stage & Grade & Estrogen Status & Progesterone Status &  Status \\\\\n",
            "\\midrule\n",
            "White &       T1 &      N3 &      IIIC &     2 &        Positive &            Positive &       0 \\\\\n",
            "White &       T2 &      N2 &      IIIA &     2 &        Positive &            Positive &       1 \\\\\n",
            "White &       T3 &      N3 &      IIIC &     2 &        Positive &            Positive &       1 \\\\\n",
            "Other &       T2 &      N1 &       IIB &     1 &        Positive &            Positive &       1 \\\\\n",
            "Other &       T2 &      N3 &      IIIC &     2 &        Positive &            Positive &       1 \\\\\n",
            "Black &       T2 &      N2 &      IIIA &     3 &        Positive &            Negative &       1 \\\\\n",
            "Other &       T2 &      N2 &      IIIA &     2 &        Positive &            Positive &       0 \\\\\n",
            "Other &       T4 &      N1 &      IIIB &     3 &        Negative &            Negative &       0 \\\\\n",
            "Black &       T4 &      N2 &      IIIB &     2 &        Positive &            Positive &       0 \\\\\n",
            "White &       T2 &      N1 &       IIB &     3 &        Positive &            Positive &       1 \\\\\n",
            "White &       T3 &      N3 &      IIIC &     3 &        Positive &            Positive &       0 \\\\\n",
            "White &       T3 &      N3 &      IIIC &     3 &        Positive &            Positive &       0 \\\\\n",
            "\\bottomrule\n",
            "\\end{tabular}\n",
            "\n"
          ]
        },
        {
          "output_type": "stream",
          "name": "stderr",
          "text": [
            "<ipython-input-50-d2a0c2c06bdd>:3: FutureWarning: In future versions `DataFrame.to_latex` is expected to utilise the base implementation of `Styler.to_latex` for formatting and rendering. The arguments signature may therefore change. It is recommended instead to use `DataFrame.style.to_latex` which also contains additional functionality.\n",
            "  print(bc_df.to_latex(index=False,\n"
          ]
        }
      ]
    },
    {
      "cell_type": "markdown",
      "source": [
        "## Calculate the entropy of the entire dataset"
      ],
      "metadata": {
        "id": "Oe-Xmf5BbQfu"
      }
    },
    {
      "cell_type": "code",
      "source": [
        "def calc_entropy(dataframe, target):\n",
        "  target_vcounts = dataframe[target].value_counts()\n",
        "  total_entropy = 0\n",
        "  for value in target_vcounts.values:\n",
        "    proportion = (value)/(dataframe.shape[0])\n",
        "    total_entropy += proportion * log2(proportion)\n",
        "  return -total_entropy\n",
        "\n",
        "# For each unique value in target column we calculate the proportion (nunique)/(total samples)\n",
        "# and multiply it by the log2(proportion). We then return the entropy multiplied by -1"
      ],
      "metadata": {
        "id": "vHwTFjh2aihd"
      },
      "execution_count": null,
      "outputs": []
    },
    {
      "cell_type": "code",
      "source": [
        "T2 = (5/6 * log2(5/6) + 1/6 * log2(1/6)) * -6/12\n",
        "T2"
      ],
      "metadata": {
        "colab": {
          "base_uri": "https://localhost:8080/"
        },
        "id": "d_gvdNYXOS13",
        "outputId": "2f48fc71-d6a9-4984-b155-6a0759cd03c3"
      },
      "execution_count": null,
      "outputs": [
        {
          "output_type": "execute_result",
          "data": {
            "text/plain": [
              "0.32501121082417705"
            ]
          },
          "metadata": {},
          "execution_count": 84
        }
      ]
    },
    {
      "cell_type": "markdown",
      "source": [
        "# Calculate the information gain for each column"
      ],
      "metadata": {
        "id": "YYnYeW6rdrJm"
      }
    },
    {
      "cell_type": "code",
      "source": [
        "def information_gain(dataframe, column, target):\n",
        "  val_count = dataframe[column].value_counts()\n",
        "  # We get the value counts for the input column\n",
        "  sum_subset = 0\n",
        "  # we loop through val_count, extracting the index and the count\n",
        "  for index, val in zip(val_count.index, val_count.values):\n",
        "    # We get the proportion of nunique() / total samples\n",
        "    proportion = val / dataframe.shape[0]\n",
        "    # Extract the dataframe with the selected value from the column\n",
        "    this_df = dataframe[dataframe[column] == index].copy()\n",
        "    # Calculate the entropy for this dataset\n",
        "    entropy = calc_entropy(this_df, target)\n",
        "    # Add the product of proportion times entropy\n",
        "    sum_subset += proportion * entropy\n",
        "  # Subtract the sumset to the entropy to get the information gain\n",
        "  info_gain = calc_entropy(dataframe, target) - sum_subset\n",
        "  return info_gain"
      ],
      "metadata": {
        "id": "-3gJ9ogTjV-1"
      },
      "execution_count": null,
      "outputs": []
    },
    {
      "cell_type": "code",
      "source": [
        "information_gain(bc_df, 'T Stage ', 'Status')\n"
      ],
      "metadata": {
        "colab": {
          "base_uri": "https://localhost:8080/"
        },
        "id": "mJb9p3GIUAjg",
        "outputId": "000ebef0-d13d-4026-eb29-d95844608ca7"
      },
      "execution_count": null,
      "outputs": [
        {
          "output_type": "execute_result",
          "data": {
            "text/plain": [
              "0.44541483066220056"
            ]
          },
          "metadata": {},
          "execution_count": 89
        }
      ]
    },
    {
      "cell_type": "markdown",
      "source": [
        "# Implement the ID3 algorithm"
      ],
      "metadata": {
        "id": "XwtogN5mmywd"
      }
    },
    {
      "cell_type": "code",
      "source": [
        "def id3_algorithm(dataframe, target_column, attributes, tree=None):\n",
        "    \"\"\"\n",
        "    @params:\n",
        "    - dataframe: The dataset as a DataFrame\n",
        "    - target_column: The target attribute as a string\n",
        "    - attributes: The list of attributes for decision-making\n",
        "    returns:\n",
        "    - tree: The decision tree as a nested dictionary\n",
        "    \"\"\"\n",
        "    # Get the unique values of the target attribute\n",
        "    classes = dataframe[target_column].unique()\n",
        "    # Case 1: If the dataset has all the same target value, return this value\n",
        "    if len(classes) == 1:\n",
        "        return classes[0]\n",
        "    # Case 2: If the attribute list is empty, return the most frequent target value in the dataset\n",
        "    if len(attributes) == 0:\n",
        "        return dataframe[target_column].mode()[0]\n",
        "\n",
        "    # Calculate the information gain for each attribute\n",
        "    information_gains = {attribute: information_gain(dataframe, attribute, target_column) for attribute in attributes}\n",
        "    # Choose the attribute with the highest information gain\n",
        "    best_attribute = max(information_gains, key=information_gains.get)\n",
        "    # Initialize the tree structure, if it's None\n",
        "    if tree is None:\n",
        "        tree = {}\n",
        "        tree[best_attribute] = {}\n",
        "\n",
        "    # Remove the best attribute from the attribute list\n",
        "    attributes = [attr for attr in attributes if attr != best_attribute]\n",
        "    # Grow the tree branch under the parent node\n",
        "    for value in dataframe[best_attribute].unique():\n",
        "        # Split the dataset based on the best attribute and its value\n",
        "        subset = dataframe[dataframe[best_attribute] == value].drop([best_attribute], axis=1)\n",
        "        # Call the ID3 algorithm recursively and add the subtree\n",
        "        subtree = id3_algorithm(subset, target_column, attributes)\n",
        "\n",
        "        # Add the new subtree to the parent tree\n",
        "        tree[best_attribute][value] = subtree\n",
        "    return tree\n"
      ],
      "metadata": {
        "id": "iyql4NwrmyRV"
      },
      "execution_count": null,
      "outputs": []
    },
    {
      "cell_type": "code",
      "source": [
        "id3_algorithm(bc_df, 'Status', bc_df.columns[:-1])"
      ],
      "metadata": {
        "colab": {
          "base_uri": "https://localhost:8080/"
        },
        "id": "sGPe_VVonLcF",
        "outputId": "49ad4147-b825-40e2-b349-59dfacd30cb1"
      },
      "execution_count": null,
      "outputs": [
        {
          "output_type": "execute_result",
          "data": {
            "text/plain": [
              "{'T Stage ': {'T1': 0,\n",
              "  'T2': {'Race': {'White': 1,\n",
              "    'Other': {'N Stage': {'N1': 1, 'N3': 1, 'N2': 0}},\n",
              "    'Black': 1}},\n",
              "  'T3': {'Grade': {'2': 1, '3': 0}},\n",
              "  'T4': 0}}"
            ]
          },
          "metadata": {},
          "execution_count": 93
        }
      ]
    },
    {
      "cell_type": "markdown",
      "source": [
        "## Measure the performance of the ID3 by implementing a function that makes the dictionary useful"
      ],
      "metadata": {
        "id": "8laQClFBhQ1W"
      }
    },
    {
      "cell_type": "code",
      "source": [
        "def classify_sample(tree, sample):\n",
        "\n",
        "    # The stopping condition: if the tree is just a leaf node (0 or 1)\n",
        "    if type(tree) is not dict:\n",
        "        return tree\n",
        "\n",
        "    # Get the attribute that the tree splits on\n",
        "    attribute = list(tree.keys())[0]\n",
        "    # Get the subtree corresponding to the attribute value in the sample\n",
        "    if attribute in sample:  # Check if the attribute exists in the sample\n",
        "        value = sample[attribute]\n",
        "        subtree = tree[attribute].get(value)\n",
        "        # If the value is not in the tree, we can't make a decision (could return a default value or None)\n",
        "        if subtree is None:\n",
        "            return None\n",
        "\n",
        "        # Recursively call the classify_sample function on the subtree\n",
        "        return classify_sample(subtree, sample)\n",
        "    else:\n",
        "        return None  # Attribute not in sample, can't make a decision"
      ],
      "metadata": {
        "id": "pDplDusOhQQe"
      },
      "execution_count": null,
      "outputs": []
    },
    {
      "cell_type": "code",
      "source": [
        "# Define the evaluate_model_debug function with handling for default class\n",
        "def evaluate_model_debug(tree, test_data, default_class):\n",
        "    y_true = test_data['Status'].tolist()  # Actual labels\n",
        "    y_pred = []  # Predicted labels\n",
        "\n",
        "    # Iterate through each sample in the test data\n",
        "    for i in range(len(test_data)):\n",
        "        sample = test_data.iloc[i].to_dict()\n",
        "        true_label = sample.pop('Status')  # Remove the target value to test the prediction\n",
        "        prediction = classify_sample(tree, sample)\n",
        "\n",
        "        # Use default class if prediction is None\n",
        "        if prediction is None:\n",
        "            prediction = default_class\n",
        "\n",
        "        # Debugging information: print true and predicted labels\n",
        "        print(f\"Sample {i+1}: True label = {true_label}, Predicted label = {prediction}\")\n",
        "\n",
        "        y_pred.append(prediction)\n",
        "\n",
        "    # Calculate accuracy and F1 score\n",
        "    accuracy = accuracy_score(y_true, y_pred)\n",
        "    f1 = f1_score(y_true, y_pred)\n",
        "\n",
        "    return accuracy, f1\n",
        "\n",
        "# Determine the majority class in the training data\n",
        "majority_class = train_data['Status'].mode()[0]\n",
        "\n",
        "# Use a dummy tree for demonstration (replace this with your actual trained tree)\n",
        "dummy_tree = {'T Stage ': {'T1': 0,\n",
        "  'T2': {'Race': {'White': 1,\n",
        "    'Other': {'N Stage': {'N1': 1, 'N3': 1, 'N2': 0}},\n",
        "    'Black': 1}},\n",
        "  'T3': {'Grade': {'2': 1, '3': 0}},\n",
        "  'T4': 0}}\n",
        "\n",
        "# Evaluate the model using a small subset of the test data and majority class as the default class\n",
        "test_data_subset = test_data.sample(n=10, random_state=1)\n",
        "accuracy, f1 = evaluate_model_debug(dummy_tree, test_data_subset, majority_class)\n",
        "print(f\"\\nDebug Evaluation: Accuracy = {accuracy}, F1 Score = {f1}\")\n",
        "\n"
      ],
      "metadata": {
        "colab": {
          "base_uri": "https://localhost:8080/"
        },
        "id": "b4ltgG68hZVg",
        "outputId": "75b7f194-9c61-4139-bed9-c851809a67e1"
      },
      "execution_count": null,
      "outputs": [
        {
          "output_type": "stream",
          "name": "stdout",
          "text": [
            "Sample 1: True label = 0, Predicted label = 1\n",
            "Sample 2: True label = 1, Predicted label = 1\n",
            "Sample 3: True label = 0, Predicted label = 0\n",
            "Sample 4: True label = 0, Predicted label = 0\n",
            "Sample 5: True label = 1, Predicted label = 1\n",
            "Sample 6: True label = 0, Predicted label = 0\n",
            "Sample 7: True label = 0, Predicted label = 1\n",
            "Sample 8: True label = 1, Predicted label = 0\n",
            "Sample 9: True label = 1, Predicted label = 1\n",
            "Sample 10: True label = 0, Predicted label = 1\n",
            "\n",
            "Debug Evaluation: Accuracy = 0.6, F1 Score = 0.6\n"
          ]
        }
      ]
    },
    {
      "cell_type": "markdown",
      "source": [
        "# Use this to generate a string to diagram mermaid can plot a decision tree"
      ],
      "metadata": {
        "id": "4eSZO_U108u6"
      }
    },
    {
      "cell_type": "code",
      "source": [
        "def dict_to_mermaid(d, parent=None, mermaid_str=[]):\n",
        "    \"\"\"\n",
        "    Convert a nested dictionary to a Mermaid graph definition string.\n",
        "\n",
        "    Parameters:\n",
        "    d (dict): The nested dictionary to convert.\n",
        "    parent (str): The parent node in the Mermaid graph.\n",
        "    mermaid_str (list): The list to store Mermaid graph elements.\n",
        "\n",
        "    Returns:\n",
        "    str: The Mermaid graph definition string.\n",
        "    \"\"\"\n",
        "    for key, value in d.items():\n",
        "        node = f\"{key}\"\n",
        "        if parent:\n",
        "            mermaid_str.append(f\"{parent} --> {node}\")\n",
        "        if isinstance(value, dict):\n",
        "            dict_to_mermaid(value, node, mermaid_str)\n",
        "        else:\n",
        "            leaf_node = f\"{node}_{value}\"\n",
        "            mermaid_str.append(f\"{node} --> {leaf_node}\")\n",
        "            mermaid_str.append(f\"class {leaf_node} end;\")\n",
        "    return \"graph TD;\\n\" + \";\\n\".join(mermaid_str) + \";\"\n",
        "\n",
        "# Given nested dictionary\n",
        "nested_dict = {\n",
        "    'Race': {'White': {'6th Stage': {'IIA': {'Progesterone Status': {'Positive': {'Grade': {'3': {'T Stage ': {'T1': {'N Stage': {'N1': {'Estrogen Status': {'Positive': 0}}}}}},\n",
        "        '2': 1,\n",
        "        '1': 1}},\n",
        "      'Negative': 0}},\n",
        "    'IIIA': 1,\n",
        "    'IIIC': {'T Stage ': {'T3': {'Grade': {'2': 1, '1': 0, '3': 0}}, 'T4': 1}},\n",
        "    'IIB': {'Grade': {'3': {'Estrogen Status': {'Positive': 1, 'Negative': 0}},\n",
        "      '2': 0}},\n",
        "    'IIIB': 0}},\n",
        "  'Black': 0}\n",
        "}\n",
        "\n",
        "# Generate Mermaid graph definition string\n",
        "mermaid_str = dict_to_mermaid(nested_dict)\n",
        "print(mermaid_str)\n"
      ],
      "metadata": {
        "colab": {
          "base_uri": "https://localhost:8080/"
        },
        "id": "cgqR2Lhm0yW4",
        "outputId": "6634dd06-7c1b-4a82-a1cd-d3d5b2eb915c"
      },
      "execution_count": null,
      "outputs": [
        {
          "output_type": "stream",
          "name": "stdout",
          "text": [
            "graph TD;\n",
            "Race --> White;\n",
            "White --> 6th Stage;\n",
            "6th Stage --> IIA;\n",
            "IIA --> Progesterone Status;\n",
            "Progesterone Status --> Positive;\n",
            "Positive --> Grade;\n",
            "Grade --> 3;\n",
            "3 --> T Stage ;\n",
            "T Stage  --> T1;\n",
            "T1 --> N Stage;\n",
            "N Stage --> N1;\n",
            "N1 --> Estrogen Status;\n",
            "Estrogen Status --> Positive;\n",
            "Positive --> Positive_0;\n",
            "class Positive_0 end;;\n",
            "Grade --> 2;\n",
            "2 --> 2_1;\n",
            "class 2_1 end;;\n",
            "Grade --> 1;\n",
            "1 --> 1_1;\n",
            "class 1_1 end;;\n",
            "Progesterone Status --> Negative;\n",
            "Negative --> Negative_0;\n",
            "class Negative_0 end;;\n",
            "6th Stage --> IIIA;\n",
            "IIIA --> IIIA_1;\n",
            "class IIIA_1 end;;\n",
            "6th Stage --> IIIC;\n",
            "IIIC --> T Stage ;\n",
            "T Stage  --> T3;\n",
            "T3 --> Grade;\n",
            "Grade --> 2;\n",
            "2 --> 2_1;\n",
            "class 2_1 end;;\n",
            "Grade --> 1;\n",
            "1 --> 1_0;\n",
            "class 1_0 end;;\n",
            "Grade --> 3;\n",
            "3 --> 3_0;\n",
            "class 3_0 end;;\n",
            "T Stage  --> T4;\n",
            "T4 --> T4_1;\n",
            "class T4_1 end;;\n",
            "6th Stage --> IIB;\n",
            "IIB --> Grade;\n",
            "Grade --> 3;\n",
            "3 --> Estrogen Status;\n",
            "Estrogen Status --> Positive;\n",
            "Positive --> Positive_1;\n",
            "class Positive_1 end;;\n",
            "Estrogen Status --> Negative;\n",
            "Negative --> Negative_0;\n",
            "class Negative_0 end;;\n",
            "Grade --> 2;\n",
            "2 --> 2_0;\n",
            "class 2_0 end;;\n",
            "6th Stage --> IIIB;\n",
            "IIIB --> IIIB_0;\n",
            "class IIIB_0 end;;\n",
            "Race --> Black;\n",
            "Black --> Black_0;\n",
            "class Black_0 end;;\n"
          ]
        }
      ]
    }
  ]
}