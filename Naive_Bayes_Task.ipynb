{
  "nbformat": 4,
  "nbformat_minor": 0,
  "metadata": {
    "colab": {
      "provenance": []
    },
    "kernelspec": {
      "name": "python3",
      "display_name": "Python 3"
    },
    "language_info": {
      "name": "python"
    }
  },
  "cells": [
    {
      "cell_type": "code",
      "source": [
        "import pandas as pd\n",
        "import numpy as np\n",
        "import matplotlib.pyplot as plt\n",
        "import seaborn as sns"
      ],
      "metadata": {
        "id": "WA9KOnsR9m32"
      },
      "execution_count": null,
      "outputs": []
    },
    {
      "cell_type": "code",
      "source": [
        "class NaiveException(Exception):\n",
        "  pass"
      ],
      "metadata": {
        "id": "SSr8kQQzUH1v"
      },
      "execution_count": null,
      "outputs": []
    },
    {
      "cell_type": "code",
      "source": [
        "def calc_class_proba(input_df, target_name):\n",
        "    \"\"\"\n",
        "    Calculate the class probabilities for a binary or multi-class classification problem.\n",
        "\n",
        "    Parameters:\n",
        "        input_df (pd.DataFrame): The input DataFrame containing the dataset.\n",
        "        target_name (str): The name of the target column (class labels).\n",
        "\n",
        "    Returns:\n",
        "        dict: A dictionary where the keys are unique class labels from the target column,\n",
        "              and the values are the corresponding class probabilities.\n",
        "\n",
        "    Raises:\n",
        "        ValueError: If the specified target column does not exist in the input DataFrame.\n",
        "\n",
        "    Note:\n",
        "    - The function assumes that the target column contains categorical class labels.\n",
        "    - The probabilities are calculated as the relative frequencies of each class in the dataset.\n",
        "    - The returned probabilities are in the form of a dictionary for easy access.\n",
        "    - The function raises a ValueError if the target column is not found in the input DataFrame.\n",
        "    \"\"\"\n",
        "    if target_name not in input_df.columns.tolist():\n",
        "        raise ValueError(f\"Target column '{target_name}' not found in input DataFrame columns.\")\n",
        "\n",
        "    class_counts = input_df[target_name].value_counts()\n",
        "    total_samples = len(input_df)\n",
        "    probs = class_counts / total_samples\n",
        "\n",
        "    return probs.to_dict()"
      ],
      "metadata": {
        "id": "NQqcNopQ530L"
      },
      "execution_count": null,
      "outputs": []
    },
    {
      "cell_type": "code",
      "source": [
        "def calc_n_nprime(column, cval, target_val, df):\n",
        "  \"\"\"\n",
        "  Calculate n and n' values for a specific column, value, and target in a DataFrame.\n",
        "\n",
        "  Parameters:\n",
        "      column (str): The name of the column to consider.\n",
        "      cval: The specific value to count within the column.\n",
        "      target_val: The target value for filtering the DataFrame.\n",
        "      df (pd.DataFrame): The input DataFrame containing the dataset.\n",
        "\n",
        "  Returns:\n",
        "      tuple: A tuple containing two values: n_prime and n.\n",
        "          - n_prime (int): The count of samples where 'column' matches 'cval' and 'Target' matches 'target_val'.\n",
        "          - n (int): The count of samples where 'Target' matches 'target_val'.\n",
        "\n",
        "  Raises:\n",
        "      ValueError: If 'column' or 'target_val' is not found in DataFrame.\n",
        "\n",
        "  This function calculates the values n and n' for a given column, value, and target class in a DataFrame.\n",
        "    - n_prime represents the count of samples where the specified 'column' matches 'cval' and 'Target' matches 'target_val'.\n",
        "    - n represents the count of samples where 'Target' matches 'target_val'.\n",
        "  It can be used for calculations in the context of Naive Bayes classification.\n",
        "  \"\"\"\n",
        "  if column not in df.columns:\n",
        "    raise NaiveException(f'Input column {column} not found in dataframe.')\n",
        "  if cval not in df[column].unique():\n",
        "    raise NaiveException(f'Input column value not found in input column.')\n",
        "  if target_val not in df['Target'].unique():\n",
        "    raise NaiveException(f'Input target value not found in Target column.')\n",
        "\n",
        "\n",
        "  n_prime = (df[df['Target'] == target_val][column] == cval).sum()\n",
        "  n = (df[df['Target'] == target_val]).shape[0]\n",
        "\n",
        "  return n_prime, n\n"
      ],
      "metadata": {
        "id": "OPhLjur0ZQkx"
      },
      "execution_count": null,
      "outputs": []
    },
    {
      "cell_type": "code",
      "source": [
        "def calc_function1(input_m, df, input_vector):\n",
        "\n",
        "  \"\"\"\n",
        "  Calculate conditional probabilities for each target class given an input vector.\n",
        "\n",
        "  Parameters:\n",
        "      input_m (int): An arbitrary value (m) used in the probability calculation.\n",
        "      df (pd.DataFrame): The input DataFrame containing the dataset.\n",
        "      input_vector (list): A list representing the input vector for which conditional probabilities are calculated.\n",
        "\n",
        "  Returns:\n",
        "      dict: A dictionary where keys are in the form 'P(x / target_val)' and values are the corresponding conditional probabilities.\n",
        "\n",
        "  Note:\n",
        "    - The function assumes a binary classification problem (two classes) with a categorical target.\n",
        "    - The 'm' parameter can be used for Laplace smoothing (set to 0 for no smoothing).\n",
        "    - The resulting dictionary provides conditional probabilities for each target class in the dataset.\n",
        "  \"\"\"\n",
        "\n",
        "  dic_target_probs = calc_class_proba(df, 'Target')\n",
        "\n",
        "  # Section: Calculate the p-values\n",
        "  p_v = [ (1/len(df[x].unique())) for x in df.columns[:-1]]\n",
        "  dic_probs = {}\n",
        "\n",
        "  for target_val in dic_target_probs.keys():\n",
        "    aux_val = 1\n",
        "    for i in range(len(input_vector)):\n",
        "      actual_column = df.columns[i] # Get the column\n",
        "      actual_vector_value = input_vector[i] # Get the desired value\n",
        "\n",
        "      # Section: Calculate n', n, m and p\n",
        "      n_prime = (df[df['Target'] == target_val][actual_column] == actual_vector_value).sum()\n",
        "      n = (df[df['Target'] == target_val]).shape[0]\n",
        "      p = p_v[i]\n",
        "      if input_m == 0:\n",
        "        m = len(dic_target_probs.keys())\n",
        "      else:\n",
        "        m = input_m\n",
        "\n",
        "      # Section: Calculate the final value\n",
        "      final_value = (n_prime + m*p)/(n+m)\n",
        "      # print(f'Target {target_val} Column {actual_column} Value: {actual_vector_value} n prima:{n_prime}')\n",
        "\n",
        "      # Section: Multiply by the previous value to store the result\n",
        "      aux_val = aux_val * final_value\n",
        "\n",
        "    # Section: Append the data into the final dictionary\n",
        "    dic_probs[f'P(x / {target_val})'] = aux_val\n",
        "\n",
        "  return dic_probs\n"
      ],
      "metadata": {
        "id": "HarOQDWm52Se"
      },
      "execution_count": null,
      "outputs": []
    },
    {
      "cell_type": "code",
      "source": [
        "def Naive_Bayes(input_m, df, input_vector):\n",
        "  \"\"\"\n",
        "  Calculate posterior probabilities for each target class given an input vector.\n",
        "\n",
        "  Parameters:\n",
        "      input_m (int): An arbitrary value (m) used in the probability calculation.\n",
        "      df (pd.DataFrame): The input DataFrame containing the dataset.\n",
        "      input_vector (list): A list representing the input vector for which posterior probabilities are calculated.\n",
        "\n",
        "  Returns:\n",
        "      dict: A dictionary where keys are in the form 'P(target_val / x)' and values are the corresponding posterior probabilities.\n",
        "\n",
        "  Note:\n",
        "    - The function assumes a binary classification problem (two classes) with a categorical target.\n",
        "    - The 'm' parameter can be used for Laplace smoothing (set to 0 for no smoothing).\n",
        "    - The resulting dictionary provides posterior probabilities for each target class in the dataset.\n",
        "  \"\"\"\n",
        "  if 'Target' not in df.columns:\n",
        "    raise NaiveException(f'Target columns not found. Raname the target feature to Target.')\n",
        "\n",
        "  probs = calc_function1(input_m, df, input_vector)\n",
        "  target_probs = calc_class_proba(df, 'Target')\n",
        "  final_probs = {}\n",
        "\n",
        "  denominator = np.dot(list(probs.values()), list(target_probs.values()))\n",
        "\n",
        "  for i in target_probs.keys():\n",
        "    prob = target_probs.get(i)\n",
        "    prob_t = probs.get(f'P(x / {i})')\n",
        "    numerator = prob * prob_t\n",
        "\n",
        "    final_probs[f'P({i} / x)'] = (numerator) / (denominator)\n",
        "\n",
        "  return final_probs"
      ],
      "metadata": {
        "id": "9ix5BlHfGHQl"
      },
      "execution_count": null,
      "outputs": []
    }
  ]
}